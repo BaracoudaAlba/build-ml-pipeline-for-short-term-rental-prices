{
 "cells": [
  {
   "cell_type": "markdown",
   "id": "dc4e7a28",
   "metadata": {},
   "source": [
    "# Import the necessary libraries and initializing the dataset and run"
   ]
  },
  {
   "cell_type": "code",
   "execution_count": null,
   "id": "8f910e2c-1613-4ba4-b045-5fba507f13c9",
   "metadata": {},
   "outputs": [],
   "source": [
    "\n",
    "import wandb\n",
    "import pandas as pd\n",
    "from ydata_profiling import ProfileReport\n",
    "\n",
    "# create the run an initialize the dataframe\n",
    "run = wandb.init(project=\"nyc_airbnb\", group=\"eda\", save_code=True)\n",
    "local_path = wandb.use_artifact(\"sample.csv:latest\").file()\n",
    "df = pd.read_csv(local_path)"
   ]
  },
  {
   "cell_type": "markdown",
   "id": "4bf883a5",
   "metadata": {},
   "source": []
  },
  {
   "cell_type": "markdown",
   "id": "d28d4003",
   "metadata": {},
   "source": [
    "# Profile of the output and dropping outliers"
   ]
  },
  {
   "cell_type": "code",
   "execution_count": 19,
   "id": "610d6473-e17c-4fe8-8b03-1ecc3891225a",
   "metadata": {},
   "outputs": [],
   "source": [
    "# Analysis of the dataframe by outputting a report\n",
    "profile =  ProfileReport(df)\n",
    "profile.to_notebook_iframe()\n",
    "\n",
    "# Drop outliers\n",
    "min_price = 10\n",
    "max_price = 350\n",
    "idx = df['price'].between(min_price, max_price)\n",
    "df = df[idx].copy()\n",
    "\n",
    "# Convert last_review to datetime\n",
    "df['last_review'] = pd.to_datetime(df['last_review'])\n",
    "\n",
    "#Create new report in order to view the new dataset changed\n",
    "new_profile =  ProfileReport(df)\n",
    "new_profile.to_notebook_iframe()"
   ]
  },
  {
   "cell_type": "markdown",
   "id": "d6f4b8f7",
   "metadata": {},
   "source": [
    "# Termianting the run"
   ]
  },
  {
   "cell_type": "code",
   "execution_count": 23,
   "id": "c816686f-cdcd-49f4-9843-55db5ae532ce",
   "metadata": {},
   "outputs": [
    {
     "data": {
      "application/vnd.jupyter.widget-view+json": {
       "model_id": "",
       "version_major": 2,
       "version_minor": 0
      },
      "text/plain": [
       "VBox(children=(Label(value='0.003 MB of 0.003 MB uploaded\\r'), FloatProgress(value=1.0, max=1.0)))"
      ]
     },
     "metadata": {},
     "output_type": "display_data"
    },
    {
     "data": {
      "text/html": [
       " View run <strong style=\"color:#cdcd00\">dazzling-goat-5</strong> at: <a href='https://wandb.ai/albai/nyc_airbnb/runs/9b0l5ls2' target=\"_blank\">https://wandb.ai/albai/nyc_airbnb/runs/9b0l5ls2</a><br/> View job at <a href='https://wandb.ai/albai/nyc_airbnb/jobs/QXJ0aWZhY3RDb2xsZWN0aW9uOjE0MTA2NjEwMA==/version_details/v1' target=\"_blank\">https://wandb.ai/albai/nyc_airbnb/jobs/QXJ0aWZhY3RDb2xsZWN0aW9uOjE0MTA2NjEwMA==/version_details/v1</a><br/>Synced 7 W&B file(s), 0 media file(s), 0 artifact file(s) and 0 other file(s)"
      ],
      "text/plain": [
       "<IPython.core.display.HTML object>"
      ]
     },
     "metadata": {},
     "output_type": "display_data"
    },
    {
     "data": {
      "text/html": [
       "Find logs at: <code>./wandb/run-20240219_144242-9b0l5ls2/logs</code>"
      ],
      "text/plain": [
       "<IPython.core.display.HTML object>"
      ]
     },
     "metadata": {},
     "output_type": "display_data"
    }
   ],
   "source": [
    "# terminate the run\n",
    "run.finish()"
   ]
  }
 ],
 "metadata": {
  "kernelspec": {
   "display_name": "Python 3 (ipykernel)",
   "language": "python",
   "name": "python3"
  },
  "language_info": {
   "codemirror_mode": {
    "name": "ipython",
    "version": 3
   },
   "file_extension": ".py",
   "mimetype": "text/x-python",
   "name": "python",
   "nbconvert_exporter": "python",
   "pygments_lexer": "ipython3",
   "version": "3.10.13"
  }
 },
 "nbformat": 4,
 "nbformat_minor": 5
}
